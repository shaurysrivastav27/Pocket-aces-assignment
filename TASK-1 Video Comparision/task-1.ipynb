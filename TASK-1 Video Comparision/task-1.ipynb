{
 "cells": [
  {
   "cell_type": "code",
   "execution_count": 1,
   "id": "cf37344b",
   "metadata": {},
   "outputs": [],
   "source": [
    "#pip install demoji\n",
    "#pip install emoji"
   ]
  },
  {
   "cell_type": "code",
   "execution_count": 2,
   "id": "c105ecfd",
   "metadata": {},
   "outputs": [],
   "source": [
    "import pandas as pd\n",
    "import numpy as np\n",
    "import matplotlib.pyplot as plt\n",
    "import seaborn as sns \n",
    "import re\n",
    "import nltk\n",
    "import emoji"
   ]
  },
  {
   "cell_type": "code",
   "execution_count": 3,
   "id": "3a42622a",
   "metadata": {},
   "outputs": [
    {
     "data": {
      "text/html": [
       "<div>\n",
       "<style scoped>\n",
       "    .dataframe tbody tr th:only-of-type {\n",
       "        vertical-align: middle;\n",
       "    }\n",
       "\n",
       "    .dataframe tbody tr th {\n",
       "        vertical-align: top;\n",
       "    }\n",
       "\n",
       "    .dataframe thead th {\n",
       "        text-align: right;\n",
       "    }\n",
       "</style>\n",
       "<table border=\"1\" class=\"dataframe\">\n",
       "  <thead>\n",
       "    <tr style=\"text-align: right;\">\n",
       "      <th></th>\n",
       "      <th>Name</th>\n",
       "      <th>Comment</th>\n",
       "      <th>Time</th>\n",
       "      <th>Likes</th>\n",
       "      <th>Reply Count</th>\n",
       "    </tr>\n",
       "  </thead>\n",
       "  <tbody>\n",
       "    <tr>\n",
       "      <th>0</th>\n",
       "      <td>FilterCopy</td>\n",
       "      <td>What do you spend your salary on? Comment belo...</td>\n",
       "      <td>2018-07-06T06:23:53Z</td>\n",
       "      <td>2951.0</td>\n",
       "      <td>192.0</td>\n",
       "    </tr>\n",
       "    <tr>\n",
       "      <th>1</th>\n",
       "      <td>AAYAN KUMAR</td>\n",
       "      <td>i was looking at veer at the beer cafe and he ...</td>\n",
       "      <td>2021-09-16T07:29:31Z</td>\n",
       "      <td>0.0</td>\n",
       "      <td>0.0</td>\n",
       "    </tr>\n",
       "    <tr>\n",
       "      <th>2</th>\n",
       "      <td>Abhi Borthakur</td>\n",
       "      <td>And here people like us, whose salary come wit...</td>\n",
       "      <td>2021-09-16T02:57:02Z</td>\n",
       "      <td>0.0</td>\n",
       "      <td>0.0</td>\n",
       "    </tr>\n",
       "    <tr>\n",
       "      <th>3</th>\n",
       "      <td>Soham Waikar</td>\n",
       "      <td>The husband is nothing but salary in men</td>\n",
       "      <td>2021-09-15T08:18:18Z</td>\n",
       "      <td>0.0</td>\n",
       "      <td>0.0</td>\n",
       "    </tr>\n",
       "    <tr>\n",
       "      <th>4</th>\n",
       "      <td>Yuvraj Barve</td>\n",
       "      <td>this was the first video of Filtercopy i had s...</td>\n",
       "      <td>2021-09-15T06:57:05Z</td>\n",
       "      <td>0.0</td>\n",
       "      <td>0.0</td>\n",
       "    </tr>\n",
       "  </tbody>\n",
       "</table>\n",
       "</div>"
      ],
      "text/plain": [
       "             Name                                            Comment  \\\n",
       "0      FilterCopy  What do you spend your salary on? Comment belo...   \n",
       "1     AAYAN KUMAR  i was looking at veer at the beer cafe and he ...   \n",
       "2  Abhi Borthakur  And here people like us, whose salary come wit...   \n",
       "3    Soham Waikar           The husband is nothing but salary in men   \n",
       "4    Yuvraj Barve  this was the first video of Filtercopy i had s...   \n",
       "\n",
       "                   Time   Likes  Reply Count  \n",
       "0  2018-07-06T06:23:53Z  2951.0        192.0  \n",
       "1  2021-09-16T07:29:31Z     0.0          0.0  \n",
       "2  2021-09-16T02:57:02Z     0.0          0.0  \n",
       "3  2021-09-15T08:18:18Z     0.0          0.0  \n",
       "4  2021-09-15T06:57:05Z     0.0          0.0  "
      ]
     },
     "execution_count": 3,
     "metadata": {},
     "output_type": "execute_result"
    }
   ],
   "source": [
    "salarydf =  pd.read_excel(\"/home/shaury/Downloads/Comments - FilterCopy Videos.xlsx\",sheet_name=\"If Salary Were A Person\")\n",
    "salarydf.head()"
   ]
  },
  {
   "cell_type": "code",
   "execution_count": 4,
   "id": "a5841428",
   "metadata": {},
   "outputs": [
    {
     "data": {
      "text/html": [
       "<div>\n",
       "<style scoped>\n",
       "    .dataframe tbody tr th:only-of-type {\n",
       "        vertical-align: middle;\n",
       "    }\n",
       "\n",
       "    .dataframe tbody tr th {\n",
       "        vertical-align: top;\n",
       "    }\n",
       "\n",
       "    .dataframe thead th {\n",
       "        text-align: right;\n",
       "    }\n",
       "</style>\n",
       "<table border=\"1\" class=\"dataframe\">\n",
       "  <thead>\n",
       "    <tr style=\"text-align: right;\">\n",
       "      <th></th>\n",
       "      <th>Name</th>\n",
       "      <th>Comment</th>\n",
       "      <th>Time</th>\n",
       "      <th>Likes</th>\n",
       "      <th>Reply Count</th>\n",
       "    </tr>\n",
       "  </thead>\n",
       "  <tbody>\n",
       "    <tr>\n",
       "      <th>0</th>\n",
       "      <td>M Square</td>\n",
       "      <td>What a starting🤣🤣🤣</td>\n",
       "      <td>2021-09-16T11:19:50Z</td>\n",
       "      <td>0.0</td>\n",
       "      <td>0.0</td>\n",
       "    </tr>\n",
       "    <tr>\n",
       "      <th>1</th>\n",
       "      <td>Kushi Jakhotia</td>\n",
       "      <td>All the best for your exam aachese padhna exam...</td>\n",
       "      <td>2021-09-16T11:19:11Z</td>\n",
       "      <td>0.0</td>\n",
       "      <td>0.0</td>\n",
       "    </tr>\n",
       "    <tr>\n",
       "      <th>2</th>\n",
       "      <td>p i n k p e a c e e</td>\n",
       "      <td>Idk why exam ki prep mein bhi alag h feel aati...</td>\n",
       "      <td>2021-09-16T10:13:06Z</td>\n",
       "      <td>0.0</td>\n",
       "      <td>0.0</td>\n",
       "    </tr>\n",
       "    <tr>\n",
       "      <th>3</th>\n",
       "      <td>Anurag Bhattarai</td>\n",
       "      <td>I am watching this just hours before my exam</td>\n",
       "      <td>2021-09-16T08:34:14Z</td>\n",
       "      <td>0.0</td>\n",
       "      <td>0.0</td>\n",
       "    </tr>\n",
       "    <tr>\n",
       "      <th>4</th>\n",
       "      <td>Keya Das</td>\n",
       "      <td>Everybody... 😂 holi pe nasha karke, rabbi ne c...</td>\n",
       "      <td>2021-09-16T08:13:41Z</td>\n",
       "      <td>0.0</td>\n",
       "      <td>0.0</td>\n",
       "    </tr>\n",
       "  </tbody>\n",
       "</table>\n",
       "</div>"
      ],
      "text/plain": [
       "                  Name                                            Comment  \\\n",
       "0             M Square                                 What a starting🤣🤣🤣   \n",
       "1       Kushi Jakhotia  All the best for your exam aachese padhna exam...   \n",
       "2  p i n k p e a c e e  Idk why exam ki prep mein bhi alag h feel aati...   \n",
       "3     Anurag Bhattarai       I am watching this just hours before my exam   \n",
       "4             Keya Das  Everybody... 😂 holi pe nasha karke, rabbi ne c...   \n",
       "\n",
       "                   Time  Likes  Reply Count  \n",
       "0  2021-09-16T11:19:50Z    0.0          0.0  \n",
       "1  2021-09-16T11:19:11Z    0.0          0.0  \n",
       "2  2021-09-16T10:13:06Z    0.0          0.0  \n",
       "3  2021-09-16T08:34:14Z    0.0          0.0  \n",
       "4  2021-09-16T08:13:41Z    0.0          0.0  "
      ]
     },
     "execution_count": 4,
     "metadata": {},
     "output_type": "execute_result"
    }
   ],
   "source": [
    "everydf = pd.read_excel(\"/home/shaury/Downloads/Comments - FilterCopy Videos.xlsx\",sheet_name=\"Every Exam Preparation Ever\")\n",
    "everydf.head()"
   ]
  },
  {
   "cell_type": "code",
   "execution_count": 5,
   "id": "99365411",
   "metadata": {},
   "outputs": [
    {
     "data": {
      "text/plain": [
       "(<AxesSubplot:>, <AxesSubplot:>)"
      ]
     },
     "execution_count": 5,
     "metadata": {},
     "output_type": "execute_result"
    },
    {
     "data": {
      "image/png": "[encoded data removed]",
      "text/plain": [
       "<Figure size 1800x720 with 2 Axes>"
      ]
     },
     "metadata": {
      "needs_background": "light"
     },
     "output_type": "display_data"
    },
    {
     "data": {
      "image/png": "[encoded data removed]",
      "text/plain": [
       "<Figure size 1800x720 with 2 Axes>"
      ]
     },
     "metadata": {
      "needs_background": "light"
     },
     "output_type": "display_data"
    }
   ],
   "source": [
    "import missingno as ms\n",
    "ms.matrix(everydf),ms.matrix(salarydf)"
   ]
  },
  {
   "cell_type": "code",
   "execution_count": 6,
   "id": "1cd8e186",
   "metadata": {},
   "outputs": [
    {
     "data": {
      "text/plain": [
       "(Name           1\n",
       " Comment        0\n",
       " Time           0\n",
       " Likes          0\n",
       " Reply Count    0\n",
       " dtype: int64,\n",
       " Name           1\n",
       " Comment        0\n",
       " Time           0\n",
       " Likes          0\n",
       " Reply Count    0\n",
       " dtype: int64)"
      ]
     },
     "execution_count": 6,
     "metadata": {},
     "output_type": "execute_result"
    }
   ],
   "source": [
    "everydf.isna().sum(),salarydf.isna().sum()"
   ]
  },
  {
   "cell_type": "code",
   "execution_count": 7,
   "id": "86dee314",
   "metadata": {},
   "outputs": [
    {
     "data": {
      "text/plain": [
       "(5636, 10502)"
      ]
     },
     "execution_count": 7,
     "metadata": {},
     "output_type": "execute_result"
    }
   ],
   "source": [
    "everydf['Name'].nunique(),salarydf['Name'].nunique()"
   ]
  },
  {
   "cell_type": "markdown",
   "id": "d0352116",
   "metadata": {},
   "source": [
    "# preprocessing "
   ]
  },
  {
   "cell_type": "markdown",
   "id": "31681b09",
   "metadata": {},
   "source": [
    "## adding emojis as text for better understanding of the comment"
   ]
  },
  {
   "cell_type": "code",
   "execution_count": 8,
   "id": "a32ce3c4",
   "metadata": {},
   "outputs": [],
   "source": [
    "def clean(x):\n",
    "    if(type(x)!=str):\n",
    "        return 'None'\n",
    "    y= \"\"\n",
    "    spec = [\",\",\".\",\"/\",\"\\\\\",\"?\",\"!\",\"@\",\"#\",\"$\",\"%\",\"*\",\":\",\";\",\"{\",\"}\",\"(\",\")\"]\n",
    "    for i in x:\n",
    "        if((i.isalnum()) or (i==' ')):\n",
    "            if(i not in spec):\n",
    "                y = y+i\n",
    "    return emoji.demojize(x, delimiters=(\", \", \",\")).replace(\"_\",\" \") # converting emojis to text "
   ]
  },
  {
   "cell_type": "code",
   "execution_count": 9,
   "id": "53741636",
   "metadata": {},
   "outputs": [],
   "source": [
    "everydf['comment'] = everydf['Comment'].map(clean)\n",
    "salarydf['comment'] = salarydf['Comment'].map(clean)"
   ]
  },
  {
   "cell_type": "code",
   "execution_count": 10,
   "id": "04a51af1",
   "metadata": {},
   "outputs": [],
   "source": [
    "from nltk.corpus import stopwords"
   ]
  },
  {
   "cell_type": "code",
   "execution_count": 11,
   "id": "139a7609",
   "metadata": {},
   "outputs": [],
   "source": [
    "stopwords = stopwords.words(\"english\")"
   ]
  },
  {
   "cell_type": "code",
   "execution_count": 12,
   "id": "1ccc1700",
   "metadata": {},
   "outputs": [],
   "source": [
    "def rem(x):\n",
    "    return \" \".join([w for w in x.lower().split() if w not in stopwords])        "
   ]
  },
  {
   "cell_type": "code",
   "execution_count": 13,
   "id": "65c0bdbf",
   "metadata": {},
   "outputs": [],
   "source": [
    "everydf['comment'] = everydf['comment'].map(rem)\n",
    "salarydf['comment'] = salarydf['comment'].map(rem)"
   ]
  },
  {
   "cell_type": "markdown",
   "id": "c98a1416",
   "metadata": {},
   "source": [
    "## sentiment analysis"
   ]
  },
  {
   "cell_type": "code",
   "execution_count": 14,
   "id": "fc1bc809",
   "metadata": {},
   "outputs": [],
   "source": [
    "from nltk.sentiment import SentimentIntensityAnalyzer"
   ]
  },
  {
   "cell_type": "code",
   "execution_count": 15,
   "id": "2d6d5625",
   "metadata": {},
   "outputs": [],
   "source": [
    "sent_model = SentimentIntensityAnalyzer()"
   ]
  },
  {
   "cell_type": "markdown",
   "id": "955e40cf",
   "metadata": {},
   "source": [
    "### adding some commonly used hindi words to the lexicon"
   ]
  },
  {
   "cell_type": "code",
   "execution_count": 16,
   "id": "902c20f9",
   "metadata": {},
   "outputs": [],
   "source": [
    "hindi_words = {\n",
    "                \"acha\": 3.0,\n",
    "                \"bahut acha\": 3.0,\n",
    "                \"badhiya\": 3.0,\n",
    "                \"mast\": 3.0,\n",
    "                \"gazab\": 3.0,\n",
    "                \"behtareen\": 3.0,\n",
    "                \"mazedar\": 3.0,\n",
    "                \"jhakkas\": 3.5,\n",
    "                \"sundar\": 3.5,\n",
    "                \"khoobsurat\": 3,\n",
    "                \"bawaal\": 3.5,\n",
    "                \"ek no.\":3,\n",
    "                \"ek number\": 3,\n",
    "                \"sahi\": 2,\n",
    "                \"lajawaab\":2,\n",
    "                \"lajawab\":2,\n",
    "                \"rapchik\":2,\n",
    "                \n",
    "                \n",
    "                \"bura\": -2,\n",
    "                \"bekar\": -2,\n",
    "                \"bekaar\": -1,\n",
    "                \"ghatiya\": -1.5,\n",
    "                \"ganda\": -1.5,\n",
    "                \"kharaab\": -2,\n",
    "                \"kharab\":    -2\n",
    "                }"
   ]
  },
  {
   "cell_type": "code",
   "execution_count": 17,
   "id": "112a6596",
   "metadata": {},
   "outputs": [],
   "source": [
    "sent_model.lexicon.update(hindi_words)"
   ]
  },
  {
   "cell_type": "code",
   "execution_count": 18,
   "id": "adaa2bf0",
   "metadata": {},
   "outputs": [],
   "source": [
    "def sentiments_with_hindi(x):\n",
    "    if(sent_model.polarity_scores(x)['pos']>sent_model.polarity_scores(x)['neg']):\n",
    "        return \"Positive\"\n",
    "    elif(sent_model.polarity_scores(x)['pos']<sent_model.polarity_scores(x)['neg']):\n",
    "        return \"Negative\"\n",
    "    else:\n",
    "        return \"Neutral\""
   ]
  },
  {
   "cell_type": "code",
   "execution_count": 19,
   "id": "28b83a0c",
   "metadata": {},
   "outputs": [],
   "source": [
    "everydf['nature_of_comment'] = everydf['comment'].map(sentiments_with_hindi)\n",
    "salarydf['nature_of_comment'] = salarydf['comment'].map(sentiments_with_hindi)"
   ]
  },
  {
   "cell_type": "markdown",
   "id": "217e091a",
   "metadata": {},
   "source": [
    "## percentage of sentiments in comments "
   ]
  },
  {
   "cell_type": "code",
   "execution_count": 20,
   "id": "69e08603",
   "metadata": {},
   "outputs": [
    {
     "data": {
      "text/plain": [
       "(  nature of comment  % for everydf\n",
       " 0          Positive      44.494494\n",
       " 1           Neutral      36.436436\n",
       " 2          Negative      19.069069,\n",
       "   nature of comment  % for salarydf\n",
       " 0          Positive       64.325256\n",
       " 1           Neutral       26.109447\n",
       " 2          Negative        9.565296)"
      ]
     },
     "execution_count": 20,
     "metadata": {},
     "output_type": "execute_result"
    }
   ],
   "source": [
    "every = pd.DataFrame(100 * everydf['nature_of_comment'].value_counts()/len(everydf)).reset_index()\n",
    "every.columns = ['nature of comment','% for everydf']\n",
    "salary = pd.DataFrame(100 * salarydf['nature_of_comment'].value_counts()/len(salarydf)).reset_index()\n",
    "salary.columns = ['nature of comment','% for salarydf']\n",
    "every,salary"
   ]
  },
  {
   "cell_type": "code",
   "execution_count": 21,
   "id": "cbe731e7",
   "metadata": {},
   "outputs": [],
   "source": [
    "final = pd.concat([every,salary.drop('nature of comment',axis=1)],axis=1).set_index(\"nature of comment\")"
   ]
  },
  {
   "cell_type": "code",
   "execution_count": 23,
   "id": "faadb118",
   "metadata": {},
   "outputs": [
    {
     "data": {
      "text/plain": [
       "Text(0.5, 1.0, 'If Salary Were A Person')"
      ]
     },
     "execution_count": 23,
     "metadata": {},
     "output_type": "execute_result"
    },
    {
     "data": {
      "image/png": "[encoded data removed]",
      "text/plain": [
       "<Figure size 1080x432 with 2 Axes>"
      ]
     },
     "metadata": {
      "needs_background": "light"
     },
     "output_type": "display_data"
    }
   ],
   "source": [
    "fig,axes= plt.subplots(ncols=2,figsize=(15,6)) \n",
    "sns.barplot(ax=axes[0],x=every['nature of comment'],y=every['% for everydf']).set_title(\"Every Exam Preparation Ever\")\n",
    "sns.barplot(ax=axes[1],x=salary['nature of comment'],y=salary['% for salarydf']).set_title(\"If Salary Were A Person\")"
   ]
  },
  {
   "cell_type": "markdown",
   "id": "9448b4eb",
   "metadata": {},
   "source": [
    "## final plot for comparision"
   ]
  },
  {
   "cell_type": "code",
   "execution_count": 24,
   "id": "76ec1d95",
   "metadata": {},
   "outputs": [
    {
     "data": {
      "text/plain": [
       "<AxesSubplot:xlabel='nature of comment'>"
      ]
     },
     "execution_count": 24,
     "metadata": {},
     "output_type": "execute_result"
    },
    {
     "data": {
      "image/png": "[encoded data removed]",
      "text/plain": [
       "<Figure size 432x288 with 1 Axes>"
      ]
     },
     "metadata": {
      "needs_background": "light"
     },
     "output_type": "display_data"
    }
   ],
   "source": [
    "final.plot(kind='bar')"
   ]
  },
  {
   "cell_type": "markdown",
   "id": "41b7f5f2",
   "metadata": {},
   "source": [
    "## hence The video titled - If Salary were a person got much better response from people than the other video."
   ]
  }
 ],
 "metadata": {
  "kernelspec": {
   "display_name": "Python 3 (ipykernel)",
   "language": "python",
   "name": "python3"
  },
  "language_info": {
   "codemirror_mode": {
    "name": "ipython",
    "version": 3
   },
   "file_extension": ".py",
   "mimetype": "text/x-python",
   "name": "python",
   "nbconvert_exporter": "python",
   "pygments_lexer": "ipython3",
   "version": "3.8.10"
  }
 },
 "nbformat": 4,
 "nbformat_minor": 5
}
